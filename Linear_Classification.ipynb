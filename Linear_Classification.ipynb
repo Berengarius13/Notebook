{
  "nbformat": 4,
  "nbformat_minor": 0,
  "metadata": {
    "colab": {
      "name": "Linear Classification.ipynb",
      "provenance": [],
      "authorship_tag": "ABX9TyPCz8Q6el/BOChErwcER9Mx",
      "include_colab_link": true
    },
    "kernelspec": {
      "name": "python3",
      "display_name": "Python 3"
    },
    "language_info": {
      "name": "python"
    }
  },
  "cells": [
    {
      "cell_type": "markdown",
      "metadata": {
        "id": "view-in-github",
        "colab_type": "text"
      },
      "source": [
        "<a href=\"https://colab.research.google.com/github/Berengarius13/Notebook/blob/main/Linear_Classification.ipynb\" target=\"_parent\"><img src=\"https://colab.research.google.com/assets/colab-badge.svg\" alt=\"Open In Colab\"/></a>"
      ]
    },
    {
      "cell_type": "markdown",
      "source": [
        "### BREST CANCER DATASET\n",
        "* We will apply linear classification model on this standard dataset\n",
        "* Tensorfow 2 will be used"
      ],
      "metadata": {
        "id": "ejcp1DTJ76CR"
      }
    },
    {
      "cell_type": "code",
      "execution_count": 39,
      "metadata": {
        "colab": {
          "base_uri": "https://localhost:8080/"
        },
        "id": "399WHLhz3dEt",
        "outputId": "f94700c1-c2cb-498a-a978-f1bf9169d9ac"
      },
      "outputs": [
        {
          "output_type": "stream",
          "name": "stdout",
          "text": [
            "2.6.0\n"
          ]
        }
      ],
      "source": [
        "import tensorflow as tf\n",
        "print(tf.__version__)"
      ]
    },
    {
      "cell_type": "code",
      "source": [
        "# Load the dataset using\n",
        "from sklearn.datasets import load_breast_cancer"
      ],
      "metadata": {
        "id": "9UQdH4Z99NUu"
      },
      "execution_count": 40,
      "outputs": []
    },
    {
      "cell_type": "code",
      "source": [
        "# Load the data \n",
        "data = load_breast_cancer()"
      ],
      "metadata": {
        "id": "Nlf82kCX9aV8"
      },
      "execution_count": 41,
      "outputs": []
    },
    {
      "cell_type": "code",
      "source": [
        "# Analyse the data using this step\n",
        "# help(data)\n",
        "print(type(data))\n",
        "print(dir(data))"
      ],
      "metadata": {
        "colab": {
          "base_uri": "https://localhost:8080/"
        },
        "id": "K-kOnvix9iaC",
        "outputId": "df834e61-9c63-4e6d-f764-de1f58e78e77"
      },
      "execution_count": 42,
      "outputs": [
        {
          "output_type": "stream",
          "name": "stdout",
          "text": [
            "<class 'sklearn.utils.Bunch'>\n",
            "['DESCR', 'data', 'feature_names', 'filename', 'frame', 'target', 'target_names']\n"
          ]
        }
      ]
    },
    {
      "cell_type": "markdown",
      "source": [
        "##### Learnings\n",
        "* Utils.Bunch is just an extension of dictionary"
      ],
      "metadata": {
        "id": "rypoZENO_CHK"
      }
    },
    {
      "cell_type": "code",
      "source": [
        "# In buch you can basically treat keys as attributes, \n",
        "data.keys()\n"
      ],
      "metadata": {
        "colab": {
          "base_uri": "https://localhost:8080/"
        },
        "id": "CN3HWO98_L7n",
        "outputId": "ebb15730-f149-4923-9352-2518b4c19585"
      },
      "execution_count": 43,
      "outputs": [
        {
          "output_type": "execute_result",
          "data": {
            "text/plain": [
              "dict_keys(['data', 'target', 'frame', 'target_names', 'DESCR', 'feature_names', 'filename'])"
            ]
          },
          "metadata": {},
          "execution_count": 43
        }
      ]
    },
    {
      "cell_type": "code",
      "source": [
        "# Data attribute is basically input data as ndarray\n",
        "X = data.data\n",
        "print(type(X))\n",
        "print(X.shape)"
      ],
      "metadata": {
        "colab": {
          "base_uri": "https://localhost:8080/"
        },
        "id": "-BJdBk_7_m8s",
        "outputId": "e2ea828e-7d81-49f6-9cf4-0c651c8184eb"
      },
      "execution_count": 44,
      "outputs": [
        {
          "output_type": "stream",
          "name": "stdout",
          "text": [
            "<class 'numpy.ndarray'>\n",
            "(569, 30)\n"
          ]
        }
      ]
    },
    {
      "cell_type": "code",
      "source": [
        "# We get the target as 0 and 1s\n",
        "y = data.target\n",
        "print(type(y))\n",
        "print(y.shape)\n",
        "print(y)"
      ],
      "metadata": {
        "colab": {
          "base_uri": "https://localhost:8080/"
        },
        "id": "uKmUcvWbA4Sg",
        "outputId": "f803860f-1d30-42af-a3e1-a35a80864a43"
      },
      "execution_count": 45,
      "outputs": [
        {
          "output_type": "stream",
          "name": "stdout",
          "text": [
            "<class 'numpy.ndarray'>\n",
            "(569,)\n",
            "[0 0 0 0 0 0 0 0 0 0 0 0 0 0 0 0 0 0 0 1 1 1 0 0 0 0 0 0 0 0 0 0 0 0 0 0 0\n",
            " 1 0 0 0 0 0 0 0 0 1 0 1 1 1 1 1 0 0 1 0 0 1 1 1 1 0 1 0 0 1 1 1 1 0 1 0 0\n",
            " 1 0 1 0 0 1 1 1 0 0 1 0 0 0 1 1 1 0 1 1 0 0 1 1 1 0 0 1 1 1 1 0 1 1 0 1 1\n",
            " 1 1 1 1 1 1 0 0 0 1 0 0 1 1 1 0 0 1 0 1 0 0 1 0 0 1 1 0 1 1 0 1 1 1 1 0 1\n",
            " 1 1 1 1 1 1 1 1 0 1 1 1 1 0 0 1 0 1 1 0 0 1 1 0 0 1 1 1 1 0 1 1 0 0 0 1 0\n",
            " 1 0 1 1 1 0 1 1 0 0 1 0 0 0 0 1 0 0 0 1 0 1 0 1 1 0 1 0 0 0 0 1 1 0 0 1 1\n",
            " 1 0 1 1 1 1 1 0 0 1 1 0 1 1 0 0 1 0 1 1 1 1 0 1 1 1 1 1 0 1 0 0 0 0 0 0 0\n",
            " 0 0 0 0 0 0 0 1 1 1 1 1 1 0 1 0 1 1 0 1 1 0 1 0 0 1 1 1 1 1 1 1 1 1 1 1 1\n",
            " 1 0 1 1 0 1 0 1 1 1 1 1 1 1 1 1 1 1 1 1 1 0 1 1 1 0 1 0 1 1 1 1 0 0 0 1 1\n",
            " 1 1 0 1 0 1 0 1 1 1 0 1 1 1 1 1 1 1 0 0 0 1 1 1 1 1 1 1 1 1 1 1 0 0 1 0 0\n",
            " 0 1 0 0 1 1 1 1 1 0 1 1 1 1 1 0 1 1 1 0 1 1 0 0 1 1 1 1 1 1 0 1 1 1 1 1 1\n",
            " 1 0 1 1 1 1 1 0 1 1 0 1 1 1 1 1 1 1 1 1 1 1 1 0 1 0 0 1 0 1 1 1 1 1 0 1 1\n",
            " 0 1 0 1 1 0 1 0 1 1 1 1 1 1 1 1 0 0 1 1 1 1 1 1 0 1 1 1 1 1 1 1 1 1 1 0 1\n",
            " 1 1 1 1 1 1 0 1 0 1 1 0 1 1 1 1 1 0 0 1 0 1 0 1 1 1 1 1 0 1 1 0 1 0 1 0 0\n",
            " 1 1 1 0 1 1 1 1 1 1 1 1 1 1 1 0 1 0 0 1 1 1 1 1 1 1 1 1 1 1 1 1 1 1 1 1 1\n",
            " 1 1 1 1 1 1 1 0 0 0 0 0 0 1]\n"
          ]
        }
      ]
    },
    {
      "cell_type": "code",
      "source": [
        "# Meaning of target\n",
        "# Benign are not cancerous but malignant are cancerous\n",
        "target_names = data.target_names\n",
        "target_names"
      ],
      "metadata": {
        "colab": {
          "base_uri": "https://localhost:8080/"
        },
        "id": "56pCmeLGBUNY",
        "outputId": "97382621-b630-4a88-c0f6-a35a00f77d2d"
      },
      "execution_count": 46,
      "outputs": [
        {
          "output_type": "execute_result",
          "data": {
            "text/plain": [
              "array(['malignant', 'benign'], dtype='<U9')"
            ]
          },
          "metadata": {},
          "execution_count": 46
        }
      ]
    },
    {
      "cell_type": "code",
      "source": [
        "# Features names\n",
        "feature_name = data.feature_names\n",
        "feature_name"
      ],
      "metadata": {
        "colab": {
          "base_uri": "https://localhost:8080/"
        },
        "id": "Pk5SGhqJB-LP",
        "outputId": "08c9d81e-b09f-4a38-ba6f-5ac376ef6727"
      },
      "execution_count": 47,
      "outputs": [
        {
          "output_type": "execute_result",
          "data": {
            "text/plain": [
              "array(['mean radius', 'mean texture', 'mean perimeter', 'mean area',\n",
              "       'mean smoothness', 'mean compactness', 'mean concavity',\n",
              "       'mean concave points', 'mean symmetry', 'mean fractal dimension',\n",
              "       'radius error', 'texture error', 'perimeter error', 'area error',\n",
              "       'smoothness error', 'compactness error', 'concavity error',\n",
              "       'concave points error', 'symmetry error',\n",
              "       'fractal dimension error', 'worst radius', 'worst texture',\n",
              "       'worst perimeter', 'worst area', 'worst smoothness',\n",
              "       'worst compactness', 'worst concavity', 'worst concave points',\n",
              "       'worst symmetry', 'worst fractal dimension'], dtype='<U23')"
            ]
          },
          "metadata": {},
          "execution_count": 47
        }
      ]
    },
    {
      "cell_type": "code",
      "source": [
        "# Split data in test and train set\n",
        "from sklearn.model_selection import train_test_split\n",
        "\n",
        "X_train, X_test, y_train, y_test = train_test_split(X, y, test_size=0.33)\n",
        "N, D = X_train.shape\n",
        "print(N)\n",
        "print(D)"
      ],
      "metadata": {
        "colab": {
          "base_uri": "https://localhost:8080/"
        },
        "id": "um9NAw5dCkyX",
        "outputId": "cb5bef52-ba71-4624-dda1-69136d91dbdc"
      },
      "execution_count": 52,
      "outputs": [
        {
          "output_type": "stream",
          "name": "stdout",
          "text": [
            "381\n",
            "30\n"
          ]
        }
      ]
    },
    {
      "cell_type": "code",
      "source": [
        "# Data needs to be scaled\n",
        "# Scaling test and train data individually\n",
        "from sklearn.preprocessing import StandardScaler\n",
        "scalar = StandardScaler()\n",
        "X_train = scalar.fit_transform(X_train)\n",
        "X_test = scalar.transform(X_test)"
      ],
      "metadata": {
        "id": "lTRcT56WeJ_S"
      },
      "execution_count": 53,
      "outputs": []
    },
    {
      "cell_type": "code",
      "source": [
        "# Steps to build model in tensorflow\n",
        "\n",
        "model = tf.keras.models.Sequential()\n",
        "model.add(tf.keras.layers.Dense(1, input_shape= (D,), activation = \"sigmoid\"))\n",
        "\n",
        "model.compile(\n",
        "    optimizer='adam',\n",
        "    loss= 'binary_crossentropy',\n",
        "    metrics= ['accuracy']\n",
        ")\n",
        "\n",
        "# Train the model\n",
        "result = model.fit(X_train, y_train, validation_data=(X_test, y_test), epochs= 100)\n",
        "\n",
        "# Evaluate model\n",
        "print(\"Train score:\", model.evaluate(X_train, y_train))\n",
        "print(\"Test score:\", model.evaluate(X_test, y_test))"
      ],
      "metadata": {
        "colab": {
          "base_uri": "https://localhost:8080/"
        },
        "id": "cMJbpZZje1sU",
        "outputId": "15445459-8421-4ce8-84e1-1f931db3db8d"
      },
      "execution_count": 57,
      "outputs": [
        {
          "output_type": "stream",
          "name": "stdout",
          "text": [
            "Epoch 1/100\n",
            "12/12 [==============================] - 0s 11ms/step - loss: 0.7034 - accuracy: 0.5669 - val_loss: 0.6999 - val_accuracy: 0.6064\n",
            "Epoch 2/100\n",
            "12/12 [==============================] - 0s 2ms/step - loss: 0.6359 - accuracy: 0.6220 - val_loss: 0.6342 - val_accuracy: 0.6436\n",
            "Epoch 3/100\n",
            "12/12 [==============================] - 0s 3ms/step - loss: 0.5789 - accuracy: 0.6745 - val_loss: 0.5782 - val_accuracy: 0.7340\n",
            "Epoch 4/100\n",
            "12/12 [==============================] - 0s 2ms/step - loss: 0.5310 - accuracy: 0.7192 - val_loss: 0.5307 - val_accuracy: 0.7660\n",
            "Epoch 5/100\n",
            "12/12 [==============================] - 0s 2ms/step - loss: 0.4892 - accuracy: 0.7507 - val_loss: 0.4920 - val_accuracy: 0.7819\n",
            "Epoch 6/100\n",
            "12/12 [==============================] - 0s 2ms/step - loss: 0.4560 - accuracy: 0.7664 - val_loss: 0.4581 - val_accuracy: 0.8245\n",
            "Epoch 7/100\n",
            "12/12 [==============================] - 0s 2ms/step - loss: 0.4264 - accuracy: 0.8084 - val_loss: 0.4297 - val_accuracy: 0.8298\n",
            "Epoch 8/100\n",
            "12/12 [==============================] - 0s 2ms/step - loss: 0.4012 - accuracy: 0.8320 - val_loss: 0.4053 - val_accuracy: 0.8404\n",
            "Epoch 9/100\n",
            "12/12 [==============================] - 0s 3ms/step - loss: 0.3791 - accuracy: 0.8425 - val_loss: 0.3843 - val_accuracy: 0.8511\n",
            "Epoch 10/100\n",
            "12/12 [==============================] - 0s 2ms/step - loss: 0.3602 - accuracy: 0.8556 - val_loss: 0.3656 - val_accuracy: 0.8617\n",
            "Epoch 11/100\n",
            "12/12 [==============================] - 0s 2ms/step - loss: 0.3434 - accuracy: 0.8583 - val_loss: 0.3490 - val_accuracy: 0.8777\n",
            "Epoch 12/100\n",
            "12/12 [==============================] - 0s 2ms/step - loss: 0.3281 - accuracy: 0.8740 - val_loss: 0.3345 - val_accuracy: 0.8777\n",
            "Epoch 13/100\n",
            "12/12 [==============================] - 0s 2ms/step - loss: 0.3148 - accuracy: 0.8793 - val_loss: 0.3212 - val_accuracy: 0.8883\n",
            "Epoch 14/100\n",
            "12/12 [==============================] - 0s 2ms/step - loss: 0.3026 - accuracy: 0.8871 - val_loss: 0.3092 - val_accuracy: 0.9043\n",
            "Epoch 15/100\n",
            "12/12 [==============================] - 0s 2ms/step - loss: 0.2914 - accuracy: 0.8871 - val_loss: 0.2983 - val_accuracy: 0.9043\n",
            "Epoch 16/100\n",
            "12/12 [==============================] - 0s 2ms/step - loss: 0.2812 - accuracy: 0.8950 - val_loss: 0.2885 - val_accuracy: 0.9043\n",
            "Epoch 17/100\n",
            "12/12 [==============================] - 0s 2ms/step - loss: 0.2719 - accuracy: 0.8950 - val_loss: 0.2796 - val_accuracy: 0.8989\n",
            "Epoch 18/100\n",
            "12/12 [==============================] - 0s 2ms/step - loss: 0.2635 - accuracy: 0.8976 - val_loss: 0.2712 - val_accuracy: 0.9096\n",
            "Epoch 19/100\n",
            "12/12 [==============================] - 0s 2ms/step - loss: 0.2556 - accuracy: 0.9003 - val_loss: 0.2634 - val_accuracy: 0.9149\n",
            "Epoch 20/100\n",
            "12/12 [==============================] - 0s 2ms/step - loss: 0.2482 - accuracy: 0.9029 - val_loss: 0.2563 - val_accuracy: 0.9202\n",
            "Epoch 21/100\n",
            "12/12 [==============================] - 0s 2ms/step - loss: 0.2415 - accuracy: 0.9108 - val_loss: 0.2496 - val_accuracy: 0.9202\n",
            "Epoch 22/100\n",
            "12/12 [==============================] - 0s 2ms/step - loss: 0.2352 - accuracy: 0.9160 - val_loss: 0.2433 - val_accuracy: 0.9255\n",
            "Epoch 23/100\n",
            "12/12 [==============================] - 0s 2ms/step - loss: 0.2291 - accuracy: 0.9186 - val_loss: 0.2376 - val_accuracy: 0.9362\n",
            "Epoch 24/100\n",
            "12/12 [==============================] - 0s 2ms/step - loss: 0.2238 - accuracy: 0.9186 - val_loss: 0.2320 - val_accuracy: 0.9362\n",
            "Epoch 25/100\n",
            "12/12 [==============================] - 0s 2ms/step - loss: 0.2185 - accuracy: 0.9213 - val_loss: 0.2269 - val_accuracy: 0.9362\n",
            "Epoch 26/100\n",
            "12/12 [==============================] - 0s 2ms/step - loss: 0.2138 - accuracy: 0.9265 - val_loss: 0.2220 - val_accuracy: 0.9415\n",
            "Epoch 27/100\n",
            "12/12 [==============================] - 0s 2ms/step - loss: 0.2090 - accuracy: 0.9318 - val_loss: 0.2175 - val_accuracy: 0.9468\n",
            "Epoch 28/100\n",
            "12/12 [==============================] - 0s 3ms/step - loss: 0.2047 - accuracy: 0.9318 - val_loss: 0.2132 - val_accuracy: 0.9468\n",
            "Epoch 29/100\n",
            "12/12 [==============================] - 0s 2ms/step - loss: 0.2009 - accuracy: 0.9318 - val_loss: 0.2090 - val_accuracy: 0.9521\n",
            "Epoch 30/100\n",
            "12/12 [==============================] - 0s 2ms/step - loss: 0.1968 - accuracy: 0.9318 - val_loss: 0.2051 - val_accuracy: 0.9521\n",
            "Epoch 31/100\n",
            "12/12 [==============================] - 0s 2ms/step - loss: 0.1933 - accuracy: 0.9318 - val_loss: 0.2013 - val_accuracy: 0.9521\n",
            "Epoch 32/100\n",
            "12/12 [==============================] - 0s 2ms/step - loss: 0.1896 - accuracy: 0.9318 - val_loss: 0.1979 - val_accuracy: 0.9521\n",
            "Epoch 33/100\n",
            "12/12 [==============================] - 0s 3ms/step - loss: 0.1865 - accuracy: 0.9318 - val_loss: 0.1944 - val_accuracy: 0.9521\n",
            "Epoch 34/100\n",
            "12/12 [==============================] - 0s 2ms/step - loss: 0.1833 - accuracy: 0.9318 - val_loss: 0.1913 - val_accuracy: 0.9521\n",
            "Epoch 35/100\n",
            "12/12 [==============================] - 0s 2ms/step - loss: 0.1803 - accuracy: 0.9318 - val_loss: 0.1882 - val_accuracy: 0.9521\n",
            "Epoch 36/100\n",
            "12/12 [==============================] - 0s 2ms/step - loss: 0.1774 - accuracy: 0.9318 - val_loss: 0.1853 - val_accuracy: 0.9521\n",
            "Epoch 37/100\n",
            "12/12 [==============================] - 0s 2ms/step - loss: 0.1748 - accuracy: 0.9344 - val_loss: 0.1824 - val_accuracy: 0.9521\n",
            "Epoch 38/100\n",
            "12/12 [==============================] - 0s 3ms/step - loss: 0.1720 - accuracy: 0.9370 - val_loss: 0.1797 - val_accuracy: 0.9521\n",
            "Epoch 39/100\n",
            "12/12 [==============================] - 0s 2ms/step - loss: 0.1695 - accuracy: 0.9370 - val_loss: 0.1771 - val_accuracy: 0.9521\n",
            "Epoch 40/100\n",
            "12/12 [==============================] - 0s 2ms/step - loss: 0.1671 - accuracy: 0.9396 - val_loss: 0.1746 - val_accuracy: 0.9521\n",
            "Epoch 41/100\n",
            "12/12 [==============================] - 0s 2ms/step - loss: 0.1649 - accuracy: 0.9396 - val_loss: 0.1722 - val_accuracy: 0.9468\n",
            "Epoch 42/100\n",
            "12/12 [==============================] - 0s 2ms/step - loss: 0.1626 - accuracy: 0.9449 - val_loss: 0.1698 - val_accuracy: 0.9468\n",
            "Epoch 43/100\n",
            "12/12 [==============================] - 0s 2ms/step - loss: 0.1605 - accuracy: 0.9475 - val_loss: 0.1676 - val_accuracy: 0.9521\n",
            "Epoch 44/100\n",
            "12/12 [==============================] - 0s 2ms/step - loss: 0.1584 - accuracy: 0.9475 - val_loss: 0.1654 - val_accuracy: 0.9521\n",
            "Epoch 45/100\n",
            "12/12 [==============================] - 0s 2ms/step - loss: 0.1564 - accuracy: 0.9501 - val_loss: 0.1633 - val_accuracy: 0.9521\n",
            "Epoch 46/100\n",
            "12/12 [==============================] - 0s 2ms/step - loss: 0.1545 - accuracy: 0.9501 - val_loss: 0.1614 - val_accuracy: 0.9521\n",
            "Epoch 47/100\n",
            "12/12 [==============================] - 0s 2ms/step - loss: 0.1527 - accuracy: 0.9501 - val_loss: 0.1594 - val_accuracy: 0.9521\n",
            "Epoch 48/100\n",
            "12/12 [==============================] - 0s 2ms/step - loss: 0.1509 - accuracy: 0.9501 - val_loss: 0.1575 - val_accuracy: 0.9521\n",
            "Epoch 49/100\n",
            "12/12 [==============================] - 0s 2ms/step - loss: 0.1491 - accuracy: 0.9528 - val_loss: 0.1558 - val_accuracy: 0.9521\n",
            "Epoch 50/100\n",
            "12/12 [==============================] - 0s 2ms/step - loss: 0.1475 - accuracy: 0.9528 - val_loss: 0.1540 - val_accuracy: 0.9521\n",
            "Epoch 51/100\n",
            "12/12 [==============================] - 0s 2ms/step - loss: 0.1459 - accuracy: 0.9528 - val_loss: 0.1523 - val_accuracy: 0.9521\n",
            "Epoch 52/100\n",
            "12/12 [==============================] - 0s 2ms/step - loss: 0.1444 - accuracy: 0.9528 - val_loss: 0.1505 - val_accuracy: 0.9521\n",
            "Epoch 53/100\n",
            "12/12 [==============================] - 0s 2ms/step - loss: 0.1428 - accuracy: 0.9528 - val_loss: 0.1489 - val_accuracy: 0.9521\n",
            "Epoch 54/100\n",
            "12/12 [==============================] - 0s 2ms/step - loss: 0.1414 - accuracy: 0.9554 - val_loss: 0.1474 - val_accuracy: 0.9521\n",
            "Epoch 55/100\n",
            "12/12 [==============================] - 0s 3ms/step - loss: 0.1399 - accuracy: 0.9554 - val_loss: 0.1459 - val_accuracy: 0.9521\n",
            "Epoch 56/100\n",
            "12/12 [==============================] - 0s 2ms/step - loss: 0.1385 - accuracy: 0.9554 - val_loss: 0.1444 - val_accuracy: 0.9521\n",
            "Epoch 57/100\n",
            "12/12 [==============================] - 0s 2ms/step - loss: 0.1372 - accuracy: 0.9554 - val_loss: 0.1430 - val_accuracy: 0.9521\n",
            "Epoch 58/100\n",
            "12/12 [==============================] - 0s 2ms/step - loss: 0.1359 - accuracy: 0.9580 - val_loss: 0.1416 - val_accuracy: 0.9521\n",
            "Epoch 59/100\n",
            "12/12 [==============================] - 0s 2ms/step - loss: 0.1346 - accuracy: 0.9580 - val_loss: 0.1403 - val_accuracy: 0.9521\n",
            "Epoch 60/100\n",
            "12/12 [==============================] - 0s 2ms/step - loss: 0.1334 - accuracy: 0.9580 - val_loss: 0.1390 - val_accuracy: 0.9521\n",
            "Epoch 61/100\n",
            "12/12 [==============================] - 0s 2ms/step - loss: 0.1322 - accuracy: 0.9580 - val_loss: 0.1376 - val_accuracy: 0.9521\n",
            "Epoch 62/100\n",
            "12/12 [==============================] - 0s 2ms/step - loss: 0.1310 - accuracy: 0.9580 - val_loss: 0.1364 - val_accuracy: 0.9521\n",
            "Epoch 63/100\n",
            "12/12 [==============================] - 0s 2ms/step - loss: 0.1299 - accuracy: 0.9606 - val_loss: 0.1352 - val_accuracy: 0.9574\n",
            "Epoch 64/100\n",
            "12/12 [==============================] - 0s 2ms/step - loss: 0.1288 - accuracy: 0.9606 - val_loss: 0.1340 - val_accuracy: 0.9574\n",
            "Epoch 65/100\n",
            "12/12 [==============================] - 0s 2ms/step - loss: 0.1277 - accuracy: 0.9633 - val_loss: 0.1328 - val_accuracy: 0.9574\n",
            "Epoch 66/100\n",
            "12/12 [==============================] - 0s 2ms/step - loss: 0.1266 - accuracy: 0.9633 - val_loss: 0.1317 - val_accuracy: 0.9574\n",
            "Epoch 67/100\n",
            "12/12 [==============================] - 0s 2ms/step - loss: 0.1257 - accuracy: 0.9633 - val_loss: 0.1305 - val_accuracy: 0.9574\n",
            "Epoch 68/100\n",
            "12/12 [==============================] - 0s 2ms/step - loss: 0.1246 - accuracy: 0.9633 - val_loss: 0.1296 - val_accuracy: 0.9574\n",
            "Epoch 69/100\n",
            "12/12 [==============================] - 0s 2ms/step - loss: 0.1236 - accuracy: 0.9633 - val_loss: 0.1285 - val_accuracy: 0.9574\n",
            "Epoch 70/100\n",
            "12/12 [==============================] - 0s 3ms/step - loss: 0.1227 - accuracy: 0.9633 - val_loss: 0.1275 - val_accuracy: 0.9574\n",
            "Epoch 71/100\n",
            "12/12 [==============================] - 0s 2ms/step - loss: 0.1217 - accuracy: 0.9633 - val_loss: 0.1265 - val_accuracy: 0.9574\n",
            "Epoch 72/100\n",
            "12/12 [==============================] - 0s 2ms/step - loss: 0.1209 - accuracy: 0.9659 - val_loss: 0.1256 - val_accuracy: 0.9574\n",
            "Epoch 73/100\n",
            "12/12 [==============================] - 0s 3ms/step - loss: 0.1199 - accuracy: 0.9659 - val_loss: 0.1247 - val_accuracy: 0.9574\n",
            "Epoch 74/100\n",
            "12/12 [==============================] - 0s 3ms/step - loss: 0.1191 - accuracy: 0.9659 - val_loss: 0.1237 - val_accuracy: 0.9574\n",
            "Epoch 75/100\n",
            "12/12 [==============================] - 0s 3ms/step - loss: 0.1182 - accuracy: 0.9659 - val_loss: 0.1229 - val_accuracy: 0.9574\n",
            "Epoch 76/100\n",
            "12/12 [==============================] - 0s 3ms/step - loss: 0.1174 - accuracy: 0.9659 - val_loss: 0.1220 - val_accuracy: 0.9574\n",
            "Epoch 77/100\n",
            "12/12 [==============================] - 0s 3ms/step - loss: 0.1166 - accuracy: 0.9659 - val_loss: 0.1212 - val_accuracy: 0.9628\n",
            "Epoch 78/100\n",
            "12/12 [==============================] - 0s 2ms/step - loss: 0.1158 - accuracy: 0.9685 - val_loss: 0.1204 - val_accuracy: 0.9628\n",
            "Epoch 79/100\n",
            "12/12 [==============================] - 0s 2ms/step - loss: 0.1150 - accuracy: 0.9685 - val_loss: 0.1196 - val_accuracy: 0.9628\n",
            "Epoch 80/100\n",
            "12/12 [==============================] - 0s 2ms/step - loss: 0.1142 - accuracy: 0.9685 - val_loss: 0.1188 - val_accuracy: 0.9628\n",
            "Epoch 81/100\n",
            "12/12 [==============================] - 0s 3ms/step - loss: 0.1135 - accuracy: 0.9685 - val_loss: 0.1181 - val_accuracy: 0.9628\n",
            "Epoch 82/100\n",
            "12/12 [==============================] - 0s 2ms/step - loss: 0.1128 - accuracy: 0.9685 - val_loss: 0.1173 - val_accuracy: 0.9628\n",
            "Epoch 83/100\n",
            "12/12 [==============================] - 0s 2ms/step - loss: 0.1120 - accuracy: 0.9685 - val_loss: 0.1166 - val_accuracy: 0.9628\n",
            "Epoch 84/100\n",
            "12/12 [==============================] - 0s 2ms/step - loss: 0.1114 - accuracy: 0.9685 - val_loss: 0.1159 - val_accuracy: 0.9628\n",
            "Epoch 85/100\n",
            "12/12 [==============================] - 0s 2ms/step - loss: 0.1107 - accuracy: 0.9685 - val_loss: 0.1152 - val_accuracy: 0.9628\n",
            "Epoch 86/100\n",
            "12/12 [==============================] - 0s 2ms/step - loss: 0.1100 - accuracy: 0.9685 - val_loss: 0.1145 - val_accuracy: 0.9628\n",
            "Epoch 87/100\n",
            "12/12 [==============================] - 0s 3ms/step - loss: 0.1093 - accuracy: 0.9685 - val_loss: 0.1138 - val_accuracy: 0.9628\n",
            "Epoch 88/100\n",
            "12/12 [==============================] - 0s 2ms/step - loss: 0.1087 - accuracy: 0.9685 - val_loss: 0.1132 - val_accuracy: 0.9628\n",
            "Epoch 89/100\n",
            "12/12 [==============================] - 0s 3ms/step - loss: 0.1080 - accuracy: 0.9685 - val_loss: 0.1126 - val_accuracy: 0.9628\n",
            "Epoch 90/100\n",
            "12/12 [==============================] - 0s 3ms/step - loss: 0.1074 - accuracy: 0.9685 - val_loss: 0.1120 - val_accuracy: 0.9628\n",
            "Epoch 91/100\n",
            "12/12 [==============================] - 0s 3ms/step - loss: 0.1068 - accuracy: 0.9685 - val_loss: 0.1113 - val_accuracy: 0.9628\n",
            "Epoch 92/100\n",
            "12/12 [==============================] - 0s 2ms/step - loss: 0.1062 - accuracy: 0.9685 - val_loss: 0.1107 - val_accuracy: 0.9628\n",
            "Epoch 93/100\n",
            "12/12 [==============================] - 0s 2ms/step - loss: 0.1056 - accuracy: 0.9685 - val_loss: 0.1102 - val_accuracy: 0.9628\n",
            "Epoch 94/100\n",
            "12/12 [==============================] - 0s 2ms/step - loss: 0.1050 - accuracy: 0.9685 - val_loss: 0.1096 - val_accuracy: 0.9628\n",
            "Epoch 95/100\n",
            "12/12 [==============================] - 0s 2ms/step - loss: 0.1044 - accuracy: 0.9685 - val_loss: 0.1091 - val_accuracy: 0.9628\n",
            "Epoch 96/100\n",
            "12/12 [==============================] - 0s 2ms/step - loss: 0.1039 - accuracy: 0.9685 - val_loss: 0.1085 - val_accuracy: 0.9628\n",
            "Epoch 97/100\n",
            "12/12 [==============================] - 0s 2ms/step - loss: 0.1033 - accuracy: 0.9685 - val_loss: 0.1079 - val_accuracy: 0.9628\n",
            "Epoch 98/100\n",
            "12/12 [==============================] - 0s 2ms/step - loss: 0.1028 - accuracy: 0.9685 - val_loss: 0.1075 - val_accuracy: 0.9628\n",
            "Epoch 99/100\n",
            "12/12 [==============================] - 0s 2ms/step - loss: 0.1023 - accuracy: 0.9711 - val_loss: 0.1069 - val_accuracy: 0.9628\n",
            "Epoch 100/100\n",
            "12/12 [==============================] - 0s 2ms/step - loss: 0.1017 - accuracy: 0.9711 - val_loss: 0.1064 - val_accuracy: 0.9681\n",
            "12/12 [==============================] - 0s 771us/step - loss: 0.1014 - accuracy: 0.9711\n",
            "Train score: [0.10141471028327942, 0.9711285829544067]\n",
            "6/6 [==============================] - 0s 799us/step - loss: 0.1064 - accuracy: 0.9681\n",
            "Test score: [0.10643330216407776, 0.9680851101875305]\n"
          ]
        }
      ]
    },
    {
      "cell_type": "code",
      "source": [
        "# Plot what is returned by model.fit()\n",
        "import matplotlib.pyplot as plt\n",
        "plt.plot(result.history['loss'], label = \"loss\")\n",
        "plt.plot(result.history['val_loss'], label = 'val_loss')\n",
        "plt.legend()"
      ],
      "metadata": {
        "colab": {
          "base_uri": "https://localhost:8080/",
          "height": 282
        },
        "id": "KHDRS7f_iB-V",
        "outputId": "f3f56632-28ad-4e05-8f37-8364b651608c"
      },
      "execution_count": 58,
      "outputs": [
        {
          "output_type": "execute_result",
          "data": {
            "text/plain": [
              "<matplotlib.legend.Legend at 0x1d9be922af0>"
            ]
          },
          "metadata": {},
          "execution_count": 58
        },
        {
          "output_type": "display_data",
          "data": {
            "text/plain": [
              "<Figure size 432x288 with 1 Axes>"
            ],
            "image/png": "[encoded data removed]"
          },
          "metadata": {
            "needs_background": "light"
          }
        }
      ]
    }
  ]
}